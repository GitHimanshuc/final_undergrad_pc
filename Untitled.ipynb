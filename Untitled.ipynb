{
 "cells": [
  {
   "cell_type": "code",
   "execution_count": 17,
   "metadata": {},
   "outputs": [],
   "source": [
    "import matplotlib as mpl\n",
    "# mpl.use('GTK3Agg')\n",
    "import matplotlib.pyplot as plt\n",
    "import matplotlib.animation as animation\n",
    "import numpy as np\n",
    "import os\n",
    "from datetime import datetime\n",
    "import shutil\n",
    "import numpy as np"
   ]
  },
  {
   "cell_type": "code",
   "execution_count": 2,
   "metadata": {},
   "outputs": [],
   "source": [
    "space = 64\n",
    "num_procs = 4\n",
    "run_number = 6\n"
   ]
  },
  {
   "cell_type": "code",
   "execution_count": 10,
   "metadata": {},
   "outputs": [],
   "source": [
    "location = \"/home/himanshu/Desktop/final_year_now/data/\"\n",
    "a = datetime.now().strftime(\"%Y-%m-%d__%H:%M:%S\")\n"
   ]
  },
  {
   "cell_type": "code",
   "execution_count": 11,
   "metadata": {},
   "outputs": [],
   "source": [
    "for subdir,dirs,files in os.walk(location):\n",
    "    for folder in dirs:\n",
    "        data_folder=os.path.join(location,folder)\n",
    "        save_folder=a+\"/\"+folder\n"
   ]
  },
  {
   "cell_type": "code",
   "execution_count": 12,
   "metadata": {},
   "outputs": [
    {
     "data": {
      "text/plain": [
       "'2018-12-06__22:31:56/run1'"
      ]
     },
     "execution_count": 12,
     "metadata": {},
     "output_type": "execute_result"
    }
   ],
   "source": [
    "save_folder\n"
   ]
  },
  {
   "cell_type": "code",
   "execution_count": 4,
   "metadata": {},
   "outputs": [
    {
     "name": "stdout",
     "output_type": "stream",
     "text": [
      "/home/himanshu/Desktop/final_year_now/data/run2/TserE01.dat\n",
      "/home/himanshu/Desktop/final_year_now/data/run2/MAT3.dat\n",
      "/home/himanshu/Desktop/final_year_now/data/run2/MAT2.dat\n",
      "/home/himanshu/Desktop/final_year_now/data/run2/TserE03.dat\n",
      "/home/himanshu/Desktop/final_year_now/data/run2/TserE00.dat\n",
      "/home/himanshu/Desktop/final_year_now/data/run2/VmyoData.dat\n",
      "/home/himanshu/Desktop/final_year_now/data/run2/MAT0.dat\n",
      "/home/himanshu/Desktop/final_year_now/data/run2/random.dbl\n",
      "/home/himanshu/Desktop/final_year_now/data/run2/MAT1.dat\n",
      "/home/himanshu/Desktop/final_year_now/data/run2/TserE02.dat\n",
      "/home/himanshu/Desktop/final_year_now/data/run6/TserE01.dat\n",
      "/home/himanshu/Desktop/final_year_now/data/run6/MAT3.dat\n",
      "/home/himanshu/Desktop/final_year_now/data/run6/MAT2.dat\n",
      "/home/himanshu/Desktop/final_year_now/data/run6/TserE03.dat\n",
      "/home/himanshu/Desktop/final_year_now/data/run6/TserE00.dat\n",
      "/home/himanshu/Desktop/final_year_now/data/run6/VmyoData.dat\n",
      "/home/himanshu/Desktop/final_year_now/data/run6/MAT0.dat\n",
      "/home/himanshu/Desktop/final_year_now/data/run6/random.dbl\n",
      "/home/himanshu/Desktop/final_year_now/data/run6/MAT1.dat\n",
      "/home/himanshu/Desktop/final_year_now/data/run6/TserE02.dat\n",
      "/home/himanshu/Desktop/final_year_now/data/run4/TserE01.dat\n",
      "/home/himanshu/Desktop/final_year_now/data/run4/MAT3.dat\n",
      "/home/himanshu/Desktop/final_year_now/data/run4/MAT2.dat\n",
      "/home/himanshu/Desktop/final_year_now/data/run4/TserE03.dat\n",
      "/home/himanshu/Desktop/final_year_now/data/run4/TserE00.dat\n",
      "/home/himanshu/Desktop/final_year_now/data/run4/VmyoData.dat\n",
      "/home/himanshu/Desktop/final_year_now/data/run4/MAT0.dat\n",
      "/home/himanshu/Desktop/final_year_now/data/run4/random.dbl\n",
      "/home/himanshu/Desktop/final_year_now/data/run4/MAT1.dat\n",
      "/home/himanshu/Desktop/final_year_now/data/run4/TserE02.dat\n",
      "/home/himanshu/Desktop/final_year_now/data/run3/TserE01.dat\n",
      "/home/himanshu/Desktop/final_year_now/data/run3/MAT3.dat\n",
      "/home/himanshu/Desktop/final_year_now/data/run3/MAT2.dat\n",
      "/home/himanshu/Desktop/final_year_now/data/run3/TserE03.dat\n",
      "/home/himanshu/Desktop/final_year_now/data/run3/TserE00.dat\n",
      "/home/himanshu/Desktop/final_year_now/data/run3/VmyoData.dat\n",
      "/home/himanshu/Desktop/final_year_now/data/run3/MAT0.dat\n",
      "/home/himanshu/Desktop/final_year_now/data/run3/random.dbl\n",
      "/home/himanshu/Desktop/final_year_now/data/run3/MAT1.dat\n",
      "/home/himanshu/Desktop/final_year_now/data/run3/TserE02.dat\n",
      "/home/himanshu/Desktop/final_year_now/data/run5/TserE01.dat\n",
      "/home/himanshu/Desktop/final_year_now/data/run5/MAT3.dat\n",
      "/home/himanshu/Desktop/final_year_now/data/run5/MAT2.dat\n",
      "/home/himanshu/Desktop/final_year_now/data/run5/TserE03.dat\n",
      "/home/himanshu/Desktop/final_year_now/data/run5/TserE00.dat\n",
      "/home/himanshu/Desktop/final_year_now/data/run5/VmyoData.dat\n",
      "/home/himanshu/Desktop/final_year_now/data/run5/MAT0.dat\n",
      "/home/himanshu/Desktop/final_year_now/data/run5/random.dbl\n",
      "/home/himanshu/Desktop/final_year_now/data/run5/MAT1.dat\n",
      "/home/himanshu/Desktop/final_year_now/data/run5/TserE02.dat\n",
      "/home/himanshu/Desktop/final_year_now/data/run1/params.h\n",
      "/home/himanshu/Desktop/final_year_now/data/run1/TserE01.dat\n",
      "/home/himanshu/Desktop/final_year_now/data/run1/MAT3.dat\n",
      "/home/himanshu/Desktop/final_year_now/data/run1/MAT2.dat\n",
      "/home/himanshu/Desktop/final_year_now/data/run1/TserE03.dat\n",
      "/home/himanshu/Desktop/final_year_now/data/run1/TserE00.dat\n",
      "/home/himanshu/Desktop/final_year_now/data/run1/VmyoData.dat\n",
      "/home/himanshu/Desktop/final_year_now/data/run1/MAT0.dat\n",
      "/home/himanshu/Desktop/final_year_now/data/run1/random.dbl\n",
      "/home/himanshu/Desktop/final_year_now/data/run1/MAT1.dat\n",
      "/home/himanshu/Desktop/final_year_now/data/run1/TserE02.dat\n"
     ]
    }
   ],
   "source": [
    "for subdir,dirs,files in os.walk(location):\n",
    "    for file in files:\n",
    "        print (os.path.join(subdir,file))"
   ]
  },
  {
   "cell_type": "code",
   "execution_count": 5,
   "metadata": {},
   "outputs": [
    {
     "name": "stdout",
     "output_type": "stream",
     "text": [
      "/home/himanshu/Desktop/final_year_now/data/run2\n",
      "/home/himanshu/Desktop/final_year_now/data/run6\n",
      "/home/himanshu/Desktop/final_year_now/data/run4\n",
      "/home/himanshu/Desktop/final_year_now/data/run3\n",
      "/home/himanshu/Desktop/final_year_now/data/run5\n",
      "/home/himanshu/Desktop/final_year_now/data/run1\n"
     ]
    }
   ],
   "source": [
    "a = []\n",
    "for subdir,dirs,files in os.walk(location):\n",
    "    for file in dirs:\n",
    "        a.append(os.path.join(file))\n",
    "        print (os.path.join(location,file))"
   ]
  },
  {
   "cell_type": "code",
   "execution_count": 26,
   "metadata": {},
   "outputs": [
    {
     "data": {
      "text/plain": [
       "['run2', 'run6', 'run4', 'run3', 'run5', 'run1']"
      ]
     },
     "execution_count": 26,
     "metadata": {},
     "output_type": "execute_result"
    }
   ],
   "source": [
    "a"
   ]
  },
  {
   "cell_type": "code",
   "execution_count": 27,
   "metadata": {},
   "outputs": [],
   "source": [
    "os.mkdir(\"Good\")"
   ]
  },
  {
   "cell_type": "code",
   "execution_count": 28,
   "metadata": {},
   "outputs": [],
   "source": [
    "os.mkdir(\"Good\"+\"/\"+a[1])"
   ]
  },
  {
   "cell_type": "code",
   "execution_count": 32,
   "metadata": {},
   "outputs": [
    {
     "data": {
      "text/plain": [
       "'05this'"
      ]
     },
     "execution_count": 32,
     "metadata": {},
     "output_type": "execute_result"
    }
   ],
   "source": [
    "\"{:02}\".format(5)+\"this\""
   ]
  },
  {
   "cell_type": "code",
   "execution_count": 6,
   "metadata": {},
   "outputs": [
    {
     "name": "stdout",
     "output_type": "stream",
     "text": [
      "0 0\n",
      "0 1\n",
      "0 2\n",
      "0 3\n",
      "1 0\n",
      "1 1\n",
      "1 2\n",
      "1 3\n",
      "2 0\n",
      "2 1\n",
      "2 2\n",
      "2 3\n",
      "3 0\n",
      "3 1\n",
      "3 2\n",
      "3 3\n"
     ]
    }
   ],
   "source": [
    "for i in range(4):\n",
    "    for j in range(4):\n",
    "        print(i,j)"
   ]
  },
  {
   "cell_type": "code",
   "execution_count": 26,
   "metadata": {},
   "outputs": [
    {
     "data": {
      "image/png": "[encoded data removed]",
      "text/plain": [
       "<Figure size 72x720 with 10 Axes>"
      ]
     },
     "metadata": {
      "needs_background": "light"
     },
     "output_type": "display_data"
    }
   ],
   "source": [
    "num_procs = 10\n",
    "f, arr_plots = plt.subplots(num_procs,1,figsize=(1,1*num_procs))\n",
    "    \n",
    "for ax in arr_plots.flat:\n",
    "    ax.set(ylabel = 'Potential (nV)', xlabel = 'time (some_unit)')\n",
    "    ax.label_outer()\n",
    "b = np.arange(0,1,100)\n",
    "\n",
    "for i in range(num_procs):\n",
    "    arr_plots[i].plot(b,np.arange(0,1,10))\n",
    "    arr_plots[i].set_aspect('equal')\n",
    "    \n",
    "    if i==0:\n",
    "        arr_plots[0].set_title(\"top\")\n"
   ]
  },
  {
   "cell_type": "code",
   "execution_count": 6,
   "metadata": {},
   "outputs": [
    {
     "name": "stderr",
     "output_type": "stream",
     "text": [
      "/home/himanshu/miniconda3/lib/python3.6/site-packages/matplotlib/figure.py:457: UserWarning: matplotlib is currently using a non-GUI backend, so cannot show the figure\n",
      "  \"matplotlib is currently using a non-GUI backend, \"\n"
     ]
    }
   ],
   "source": [
    "%%\n",
    "for i in range(4):\n",
    "    arr_plots[i].plot(b)\n",
    "    \n",
    "for ax in arr_plots.flat:\n",
    "    ax.set(ylabel = 'Potential (nV)', xlabel = 'time (some_unit)')\n",
    "    ax.label_outer()\n",
    "\n",
    "f.show()"
   ]
  },
  {
   "cell_type": "code",
   "execution_count": 7,
   "metadata": {},
   "outputs": [],
   "source": [
    "        for ax in arr_plots.flat:\n",
    "            ax.set(ylabel = 'Potential (nV)', xlabel = 'time (some_unit)')\n",
    "            ax.label_outer()\n"
   ]
  },
  {
   "cell_type": "code",
   "execution_count": 16,
   "metadata": {},
   "outputs": [
    {
     "data": {
      "text/plain": [
       "range(1, 4, 5)"
      ]
     },
     "execution_count": 16,
     "metadata": {},
     "output_type": "execute_result"
    }
   ],
   "source": [
    "range(1,4,5)"
   ]
  },
  {
   "cell_type": "code",
   "execution_count": null,
   "metadata": {},
   "outputs": [],
   "source": [
    "a = "
   ]
  }
 ],
 "metadata": {
  "kernelspec": {
   "display_name": "Python [default]",
   "language": "python",
   "name": "python3"
  },
  "language_info": {
   "codemirror_mode": {
    "name": "ipython",
    "version": 3
   },
   "file_extension": ".py",
   "mimetype": "text/x-python",
   "name": "python",
   "nbconvert_exporter": "python",
   "pygments_lexer": "ipython3",
   "version": "3.6.6"
  }
 },
 "nbformat": 4,
 "nbformat_minor": 2
}
